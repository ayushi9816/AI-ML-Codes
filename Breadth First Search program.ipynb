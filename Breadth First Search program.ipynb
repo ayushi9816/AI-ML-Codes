{
 "cells": [
  {
   "cell_type": "code",
   "execution_count": 30,
   "metadata": {},
   "outputs": [],
   "source": [
    "graph_dict = {'A': ['B', 'C', 'E'],\n",
    "                    'B': ['A', 'D', 'E'],\n",
    "                    'C': ['A', 'F', 'G'],\n",
    "                    'D': ['B'],\n",
    "                    'E': ['A', 'B', 'D'],\n",
    "                    'F': ['C'],\n",
    "                    'G': ['C']}"
   ]
  },
  {
   "cell_type": "code",
   "execution_count": 31,
   "metadata": {},
   "outputs": [],
   "source": [
    "def bfs (graph, origin, dest):\n",
    "    traveled = []\n",
    "    path_setup = [[origin]]\n",
    "    \n",
    "    if origin == dest:\n",
    "        return \"Continue..\"\n",
    "        \n",
    "        while path_setup:\n",
    "            \n",
    "            path = path_setup.pop(0)\n",
    "            vertex = path[-1]\n",
    "            \n",
    "        if node not in traveled:\n",
    "            nearest_vertices = graph[vertex]\n",
    "            for  nearest_vertices in  nearest_vertices:\n",
    "                newest_path = list[path]\n",
    "                newest_path.append( nearest_vertices)\n",
    "                path_setup.append(newest_path)\n",
    "                if  nearest_vertices == dest:\n",
    "                    \n",
    "                    return newest_path\n",
    "                traveled.append(vertex)\n",
    "                \n",
    "                \n",
    " "
   ]
  },
  {
   "cell_type": "code",
   "execution_count": 32,
   "metadata": {},
   "outputs": [],
   "source": [
    "bfs(graph_dict, 'A', 'G')"
   ]
  },
  {
   "cell_type": "code",
   "execution_count": null,
   "metadata": {},
   "outputs": [],
   "source": []
  }
 ],
 "metadata": {
  "kernelspec": {
   "display_name": "Python 3",
   "language": "python",
   "name": "python3"
  },
  "language_info": {
   "codemirror_mode": {
    "name": "ipython",
    "version": 3
   },
   "file_extension": ".py",
   "mimetype": "text/x-python",
   "name": "python",
   "nbconvert_exporter": "python",
   "pygments_lexer": "ipython3",
   "version": "3.7.3"
  }
 },
 "nbformat": 4,
 "nbformat_minor": 2
}
