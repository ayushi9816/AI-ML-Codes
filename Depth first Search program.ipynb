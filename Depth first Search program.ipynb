{
 "cells": [
  {
   "cell_type": "code",
   "execution_count": 19,
   "metadata": {},
   "outputs": [],
   "source": [
    "graph_dict = {'A': ['B', 'C', 'D'],\n",
    "                    'B': ['A', 'D', 'G'],\n",
    "                    'C': ['A', 'F', 'E'],\n",
    "                    'D': ['B'],\n",
    "                    'E': ['A', 'B', 'F'],\n",
    "                    'F': ['C'],\n",
    "                    'G': ['C']}"
   ]
  },
  {
   "cell_type": "code",
   "execution_count": 20,
   "metadata": {},
   "outputs": [],
   "source": [
    "def dfs (graph, origin, dest):\n",
    "    path_setup = [[origin]]\n",
    "    while path_setup:\n",
    "        path = path_setup.pop()\n",
    "        end_vertex = path[-1]\n",
    "        if end_vertex == dest:\n",
    "        \n",
    "            return path\n",
    "        else:\n",
    "            for node in graph[end_vertex]:\n",
    "                if node not in path:\n",
    "                    newest_path = path + [node]\n",
    "                    path_setup.append(newest_path)\n",
    "                    print('No path exist')\n",
    "                    "
   ]
  },
  {
   "cell_type": "code",
   "execution_count": 22,
   "metadata": {},
   "outputs": [
    {
     "name": "stdout",
     "output_type": "stream",
     "text": [
      "No path exist between A and G\n",
      "No path exist between A and G\n",
      "No path exist between A and G\n",
      "No path exist between A and G\n",
      "No path exist between A and G\n",
      "No path exist between A and G\n",
      "No path exist between A and G\n",
      "No path exist between A and G\n",
      "No path exist between A and G\n"
     ]
    },
    {
     "data": {
      "text/plain": [
       "['A', 'C', 'G']"
      ]
     },
     "execution_count": 22,
     "metadata": {},
     "output_type": "execute_result"
    }
   ],
   "source": [
    "dfs(graph_dict, 'A', 'G')"
   ]
  },
  {
   "cell_type": "code",
   "execution_count": null,
   "metadata": {},
   "outputs": [],
   "source": []
  }
 ],
 "metadata": {
  "kernelspec": {
   "display_name": "Python 3",
   "language": "python",
   "name": "python3"
  },
  "language_info": {
   "codemirror_mode": {
    "name": "ipython",
    "version": 3
   },
   "file_extension": ".py",
   "mimetype": "text/x-python",
   "name": "python",
   "nbconvert_exporter": "python",
   "pygments_lexer": "ipython3",
   "version": "3.7.3"
  }
 },
 "nbformat": 4,
 "nbformat_minor": 2
}
